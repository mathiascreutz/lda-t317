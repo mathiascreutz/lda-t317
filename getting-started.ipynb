{
 "cells": [
  {
   "cell_type": "markdown",
   "id": "e17dceb2",
   "metadata": {},
   "source": [
    "## Welcome to your notebook\n",
    "\n",
    "Write blocks of text in *markdown* format around your blocks of Python code.\n",
    "\n",
    "#### Downloading NLTK\n",
    "\n",
    "Let's see how we initialize our system by installing NLTK and downloading corpora:"
   ]
  },
  {
   "cell_type": "code",
   "execution_count": null,
   "id": "b9d08037",
   "metadata": {},
   "outputs": [],
   "source": [
    "# Install and import NLTK -- remove if you do not need it\n",
    "!pip install nltk\n",
    "import nltk\n",
    "\n",
    "# Then download the corpora needed for ANY of the project topics:\n",
    "# Feel free to remove the parts that you do not need.\n",
    "nltk.download(['gutenberg', 'genesis', 'treebank', 'nps_chat',\n",
    "               'inaugural', 'webtext', 'wordnet', 'punkt',\n",
    "               'averaged_perceptron_tagger', 'brown', 'tagsets',\n",
    "               'cmudict', 'senseval', 'rte', 'reuters', 'names',\n",
    "               'stopwords', 'words', 'semcor', 'conll2000', 'conll2002',\n",
    "               'movie_reviews', 'sentence_polarity', 'twitter_samples',\n",
    "               'subjectivity', 'shakespeare', 'product_reviews_1',\n",
    "               'product_reviews_2'])\n",
    "\n",
    "print(\"Ready to do something!\")"
   ]
  },
  {
   "cell_type": "markdown",
   "id": "c953b9a3",
   "metadata": {},
   "source": [
    "#### Not losing your work\n",
    "\n",
    "This notebook environment is alive for four hours, after which you will lose any changes you made here.\n",
    "\n",
    "In order not to lose your work, you can place your notebook(s) in the <tt>my_work</tt> folder, which you can see by navigating the file browser on the left. The <tt>my_work</tt> folder is your personal folder, which is (supposed to be) stored for you between sessions. For instance, you can copy this notebook to <tt>my_work</tt> by right-clicking the file in the file browser and choosing _Copy_. Then go to <tt>my_work</tt>, where you right-click on the empty folder and choose _Paste_. (You might have to actually choose from the pop-up menus rather than using shortcut keys, which might not work.)\n",
    "\n",
    "Another way not to lose your work is to download a copy to your own computer (_File_ -> _Download_). This is what you will need to do eventually in order to return your work through the Moodle submission system.\n",
    "\n",
    "#### Plotting graphics\n",
    "\n",
    "Here's an extension that may come in handy for plotting graphics:"
   ]
  },
  {
   "cell_type": "code",
   "execution_count": null,
   "id": "340f4efd",
   "metadata": {},
   "outputs": [],
   "source": [
    "# If you want to plot graphics in your notebook, put this %matplotlib command before your imports\n",
    "%matplotlib inline"
   ]
  },
  {
   "cell_type": "markdown",
   "id": "5f337af0-5b49-4179-85a9-f282aaa58011",
   "metadata": {},
   "source": [
    "You can also plot interactive graphics, but then you need to use the classic Jupyter notebook user interface. It is available through the _Help_ menu through _Launch Classic Notebook_. Interactive plots allow you to zoom in and out and to save copies of your plots by pressing buttons."
   ]
  },
  {
   "cell_type": "code",
   "execution_count": null,
   "id": "05e68b6c-e8a6-4fba-85b3-562b90213920",
   "metadata": {},
   "outputs": [],
   "source": [
    "# If you want to plot interactive graphics in your notebook, use this %matplotlib command before your imports instead.\n",
    "# Note that you need to be in the classic notebook interface, when you launch your notebook. Otherwise it won't probably work.\n",
    "# First change to Classic Notebook, then stop the kernel if it is running, and relaunch the notebook.\n",
    "%matplotlib notebook"
   ]
  },
  {
   "cell_type": "markdown",
   "id": "d4c5bdf9",
   "metadata": {},
   "source": [
    "#### Memory usage\n",
    "\n",
    "CSC does not provide us with an infinite amount of memory. If you want to monitor memory usage, you can use this extension:"
   ]
  },
  {
   "cell_type": "code",
   "execution_count": null,
   "id": "756fa351",
   "metadata": {},
   "outputs": [],
   "source": [
    "# Install the memory profiler\n",
    "!pip install -q memory_profiler\n",
    "%reload_ext memory_profiler"
   ]
  },
  {
   "cell_type": "markdown",
   "id": "d797081b",
   "metadata": {},
   "source": [
    "After installation, you can ask how much memory your notebook uses in different locations of the code:"
   ]
  },
  {
   "cell_type": "code",
   "execution_count": null,
   "id": "27686626",
   "metadata": {},
   "outputs": [],
   "source": [
    "# If you use more than 5 gigabytes, your kernel at CSC notebooks will die\n",
    "%memit"
   ]
  },
  {
   "cell_type": "markdown",
   "id": "e547d259",
   "metadata": {},
   "source": [
    "Good luck and have fun!"
   ]
  }
 ],
 "metadata": {
  "kernelspec": {
   "display_name": "Python 3 (ipykernel)",
   "language": "python",
   "name": "python3"
  },
  "language_info": {
   "codemirror_mode": {
    "name": "ipython",
    "version": 3
   },
   "file_extension": ".py",
   "mimetype": "text/x-python",
   "name": "python",
   "nbconvert_exporter": "python",
   "pygments_lexer": "ipython3",
   "version": "3.10.6"
  }
 },
 "nbformat": 4,
 "nbformat_minor": 5
}
